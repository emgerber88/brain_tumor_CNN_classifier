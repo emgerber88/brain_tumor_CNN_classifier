{
 "cells": [
  {
   "cell_type": "code",
   "execution_count": 9,
   "id": "2e4f317d",
   "metadata": {},
   "outputs": [],
   "source": [
    "# For Data Processing\n",
    "import numpy as np\n",
    "import pandas as pd\n",
    "from sklearn.utils import shuffle\n",
    "from sklearn.model_selection import train_test_split\n",
    "from sklearn.metrics import classification_report\n",
    "\n",
    "# For ML Models\n",
    "from tensorflow import keras\n",
    "from tensorflow.keras.layers import *\n",
    "from tensorflow.keras.losses import *\n",
    "from tensorflow.keras.models import *\n",
    "from tensorflow.keras.metrics import *\n",
    "from tensorflow.keras.optimizers import *\n",
    "from tensorflow.keras.applications import *\n",
    "from tensorflow.keras.preprocessing.image import load_img, ImageDataGenerator\n",
    "\n",
    "# For Data Visualization\n",
    "import matplotlib.pyplot as plt\n",
    "import seaborn as sns\n",
    "%matplotlib inline\n",
    "\n",
    "# Miscellaneous\n",
    "from tqdm import tqdm\n",
    "import os\n",
    "import random"
   ]
  },
  {
   "cell_type": "code",
   "execution_count": 23,
   "id": "c07f431f",
   "metadata": {},
   "outputs": [
    {
     "data": {
      "text/html": [
       "<div>\n",
       "<style scoped>\n",
       "    .dataframe tbody tr th:only-of-type {\n",
       "        vertical-align: middle;\n",
       "    }\n",
       "\n",
       "    .dataframe tbody tr th {\n",
       "        vertical-align: top;\n",
       "    }\n",
       "\n",
       "    .dataframe thead th {\n",
       "        text-align: right;\n",
       "    }\n",
       "</style>\n",
       "<table border=\"1\" class=\"dataframe\">\n",
       "  <thead>\n",
       "    <tr style=\"text-align: right;\">\n",
       "      <th></th>\n",
       "      <th>paths</th>\n",
       "      <th>label</th>\n",
       "    </tr>\n",
       "  </thead>\n",
       "  <tbody>\n",
       "    <tr>\n",
       "      <th>0</th>\n",
       "      <td>/Users/eli/Desktop/brain_tumor_CNN_classifier/...</td>\n",
       "      <td>pituitary</td>\n",
       "    </tr>\n",
       "    <tr>\n",
       "      <th>1</th>\n",
       "      <td>/Users/eli/Desktop/brain_tumor_CNN_classifier/...</td>\n",
       "      <td>pituitary</td>\n",
       "    </tr>\n",
       "    <tr>\n",
       "      <th>2</th>\n",
       "      <td>/Users/eli/Desktop/brain_tumor_CNN_classifier/...</td>\n",
       "      <td>pituitary</td>\n",
       "    </tr>\n",
       "    <tr>\n",
       "      <th>3</th>\n",
       "      <td>/Users/eli/Desktop/brain_tumor_CNN_classifier/...</td>\n",
       "      <td>pituitary</td>\n",
       "    </tr>\n",
       "    <tr>\n",
       "      <th>4</th>\n",
       "      <td>/Users/eli/Desktop/brain_tumor_CNN_classifier/...</td>\n",
       "      <td>pituitary</td>\n",
       "    </tr>\n",
       "    <tr>\n",
       "      <th>...</th>\n",
       "      <td>...</td>\n",
       "      <td>...</td>\n",
       "    </tr>\n",
       "    <tr>\n",
       "      <th>5707</th>\n",
       "      <td>/Users/eli/Desktop/brain_tumor_CNN_classifier/...</td>\n",
       "      <td>glioma</td>\n",
       "    </tr>\n",
       "    <tr>\n",
       "      <th>5708</th>\n",
       "      <td>/Users/eli/Desktop/brain_tumor_CNN_classifier/...</td>\n",
       "      <td>glioma</td>\n",
       "    </tr>\n",
       "    <tr>\n",
       "      <th>5709</th>\n",
       "      <td>/Users/eli/Desktop/brain_tumor_CNN_classifier/...</td>\n",
       "      <td>glioma</td>\n",
       "    </tr>\n",
       "    <tr>\n",
       "      <th>5710</th>\n",
       "      <td>/Users/eli/Desktop/brain_tumor_CNN_classifier/...</td>\n",
       "      <td>glioma</td>\n",
       "    </tr>\n",
       "    <tr>\n",
       "      <th>5711</th>\n",
       "      <td>/Users/eli/Desktop/brain_tumor_CNN_classifier/...</td>\n",
       "      <td>glioma</td>\n",
       "    </tr>\n",
       "  </tbody>\n",
       "</table>\n",
       "<p>5712 rows × 2 columns</p>\n",
       "</div>"
      ],
      "text/plain": [
       "                                                  paths      label\n",
       "0     /Users/eli/Desktop/brain_tumor_CNN_classifier/...  pituitary\n",
       "1     /Users/eli/Desktop/brain_tumor_CNN_classifier/...  pituitary\n",
       "2     /Users/eli/Desktop/brain_tumor_CNN_classifier/...  pituitary\n",
       "3     /Users/eli/Desktop/brain_tumor_CNN_classifier/...  pituitary\n",
       "4     /Users/eli/Desktop/brain_tumor_CNN_classifier/...  pituitary\n",
       "...                                                 ...        ...\n",
       "5707  /Users/eli/Desktop/brain_tumor_CNN_classifier/...     glioma\n",
       "5708  /Users/eli/Desktop/brain_tumor_CNN_classifier/...     glioma\n",
       "5709  /Users/eli/Desktop/brain_tumor_CNN_classifier/...     glioma\n",
       "5710  /Users/eli/Desktop/brain_tumor_CNN_classifier/...     glioma\n",
       "5711  /Users/eli/Desktop/brain_tumor_CNN_classifier/...     glioma\n",
       "\n",
       "[5712 rows x 2 columns]"
      ]
     },
     "execution_count": 23,
     "metadata": {},
     "output_type": "execute_result"
    }
   ],
   "source": [
    "labels = ['pituitary', 'notumor', 'meningioma', 'glioma']\n",
    "train_dir = '/Users/eli/Desktop/brain_tumor_CNN_classifier/data/Training/'\n",
    "\n",
    "train_paths = []\n",
    "train_labels = []\n",
    "\n",
    "for label in labels:\n",
    "    for image in os.listdir(train_dir+label):\n",
    "        train_paths.append(train_dir+label+'/'+image)\n",
    "        train_labels.append(label)\n",
    "        \n",
    "tumor_train_df = pd.concat([pd.Series(train_paths, name = 'paths'), \n",
    "                            pd.Series(train_labels, name = 'label')], \n",
    "                            axis = 1)\n",
    "tumor_train_df"
   ]
  },
  {
   "cell_type": "code",
   "execution_count": 24,
   "id": "510b8841",
   "metadata": {},
   "outputs": [
    {
     "data": {
      "text/plain": [
       "(5712, 2)"
      ]
     },
     "execution_count": 24,
     "metadata": {},
     "output_type": "execute_result"
    }
   ],
   "source": [
    "tumor_train_df.shape"
   ]
  },
  {
   "cell_type": "code",
   "execution_count": 30,
   "id": "ac465af4",
   "metadata": {},
   "outputs": [
    {
     "data": {
      "text/plain": [
       "notumor       0.279237\n",
       "pituitary     0.255077\n",
       "meningioma    0.234419\n",
       "glioma        0.231268\n",
       "Name: label, dtype: float64"
      ]
     },
     "execution_count": 30,
     "metadata": {},
     "output_type": "execute_result"
    }
   ],
   "source": [
    "tumor_train_df['label'].value_counts(normalize = True)"
   ]
  },
  {
   "cell_type": "code",
   "execution_count": 25,
   "id": "fe4c1099",
   "metadata": {
    "scrolled": false
   },
   "outputs": [
    {
     "data": {
      "image/png": "[encoded data removed]",
      "text/plain": [
       "<Figure size 640x480 with 1 Axes>"
      ]
     },
     "metadata": {},
     "output_type": "display_data"
    }
   ],
   "source": [
    "tumor_train_df['label'].value_counts().plot(kind = 'bar');"
   ]
  },
  {
   "cell_type": "code",
   "execution_count": 27,
   "id": "c01edabf",
   "metadata": {},
   "outputs": [
    {
     "data": {
      "text/html": [
       "<div>\n",
       "<style scoped>\n",
       "    .dataframe tbody tr th:only-of-type {\n",
       "        vertical-align: middle;\n",
       "    }\n",
       "\n",
       "    .dataframe tbody tr th {\n",
       "        vertical-align: top;\n",
       "    }\n",
       "\n",
       "    .dataframe thead th {\n",
       "        text-align: right;\n",
       "    }\n",
       "</style>\n",
       "<table border=\"1\" class=\"dataframe\">\n",
       "  <thead>\n",
       "    <tr style=\"text-align: right;\">\n",
       "      <th></th>\n",
       "      <th>paths</th>\n",
       "      <th>label</th>\n",
       "    </tr>\n",
       "  </thead>\n",
       "  <tbody>\n",
       "    <tr>\n",
       "      <th>0</th>\n",
       "      <td>/Users/eli/Desktop/brain_tumor_CNN_classifier/...</td>\n",
       "      <td>pituitary</td>\n",
       "    </tr>\n",
       "    <tr>\n",
       "      <th>1</th>\n",
       "      <td>/Users/eli/Desktop/brain_tumor_CNN_classifier/...</td>\n",
       "      <td>pituitary</td>\n",
       "    </tr>\n",
       "    <tr>\n",
       "      <th>2</th>\n",
       "      <td>/Users/eli/Desktop/brain_tumor_CNN_classifier/...</td>\n",
       "      <td>pituitary</td>\n",
       "    </tr>\n",
       "    <tr>\n",
       "      <th>3</th>\n",
       "      <td>/Users/eli/Desktop/brain_tumor_CNN_classifier/...</td>\n",
       "      <td>pituitary</td>\n",
       "    </tr>\n",
       "    <tr>\n",
       "      <th>4</th>\n",
       "      <td>/Users/eli/Desktop/brain_tumor_CNN_classifier/...</td>\n",
       "      <td>pituitary</td>\n",
       "    </tr>\n",
       "    <tr>\n",
       "      <th>...</th>\n",
       "      <td>...</td>\n",
       "      <td>...</td>\n",
       "    </tr>\n",
       "    <tr>\n",
       "      <th>1306</th>\n",
       "      <td>/Users/eli/Desktop/brain_tumor_CNN_classifier/...</td>\n",
       "      <td>glioma</td>\n",
       "    </tr>\n",
       "    <tr>\n",
       "      <th>1307</th>\n",
       "      <td>/Users/eli/Desktop/brain_tumor_CNN_classifier/...</td>\n",
       "      <td>glioma</td>\n",
       "    </tr>\n",
       "    <tr>\n",
       "      <th>1308</th>\n",
       "      <td>/Users/eli/Desktop/brain_tumor_CNN_classifier/...</td>\n",
       "      <td>glioma</td>\n",
       "    </tr>\n",
       "    <tr>\n",
       "      <th>1309</th>\n",
       "      <td>/Users/eli/Desktop/brain_tumor_CNN_classifier/...</td>\n",
       "      <td>glioma</td>\n",
       "    </tr>\n",
       "    <tr>\n",
       "      <th>1310</th>\n",
       "      <td>/Users/eli/Desktop/brain_tumor_CNN_classifier/...</td>\n",
       "      <td>glioma</td>\n",
       "    </tr>\n",
       "  </tbody>\n",
       "</table>\n",
       "<p>1311 rows × 2 columns</p>\n",
       "</div>"
      ],
      "text/plain": [
       "                                                  paths      label\n",
       "0     /Users/eli/Desktop/brain_tumor_CNN_classifier/...  pituitary\n",
       "1     /Users/eli/Desktop/brain_tumor_CNN_classifier/...  pituitary\n",
       "2     /Users/eli/Desktop/brain_tumor_CNN_classifier/...  pituitary\n",
       "3     /Users/eli/Desktop/brain_tumor_CNN_classifier/...  pituitary\n",
       "4     /Users/eli/Desktop/brain_tumor_CNN_classifier/...  pituitary\n",
       "...                                                 ...        ...\n",
       "1306  /Users/eli/Desktop/brain_tumor_CNN_classifier/...     glioma\n",
       "1307  /Users/eli/Desktop/brain_tumor_CNN_classifier/...     glioma\n",
       "1308  /Users/eli/Desktop/brain_tumor_CNN_classifier/...     glioma\n",
       "1309  /Users/eli/Desktop/brain_tumor_CNN_classifier/...     glioma\n",
       "1310  /Users/eli/Desktop/brain_tumor_CNN_classifier/...     glioma\n",
       "\n",
       "[1311 rows x 2 columns]"
      ]
     },
     "execution_count": 27,
     "metadata": {},
     "output_type": "execute_result"
    }
   ],
   "source": [
    "test_dir = '/Users/eli/Desktop/brain_tumor_CNN_classifier/data/Testing/'\n",
    "\n",
    "test_paths = []\n",
    "test_labels = []\n",
    "\n",
    "for label in labels:\n",
    "    for image in os.listdir(test_dir+label):\n",
    "        test_paths.append(test_dir+label+'/'+image)\n",
    "        test_labels.append(label)\n",
    "        \n",
    "tumor_test_df = pd.concat([pd.Series(test_paths, name = 'paths'), \n",
    "                            pd.Series(test_labels, name = 'label')], \n",
    "                            axis = 1)\n",
    "tumor_test_df"
   ]
  },
  {
   "cell_type": "code",
   "execution_count": 31,
   "id": "1a2385c0",
   "metadata": {},
   "outputs": [
    {
     "data": {
      "text/plain": [
       "notumor       0.308924\n",
       "meningioma    0.233410\n",
       "pituitary     0.228833\n",
       "glioma        0.228833\n",
       "Name: label, dtype: float64"
      ]
     },
     "execution_count": 31,
     "metadata": {},
     "output_type": "execute_result"
    }
   ],
   "source": [
    "tumor_test_df['label'].value_counts(normalize = True)"
   ]
  },
  {
   "cell_type": "code",
   "execution_count": 28,
   "id": "66b7b25e",
   "metadata": {},
   "outputs": [
    {
     "data": {
      "image/png": "[encoded data removed]",
      "text/plain": [
       "<Figure size 640x480 with 1 Axes>"
      ]
     },
     "metadata": {},
     "output_type": "display_data"
    }
   ],
   "source": [
    "tumor_test_df['label'].value_counts().plot(kind = 'bar');"
   ]
  },
  {
   "cell_type": "code",
   "execution_count": null,
   "id": "be99ab77",
   "metadata": {},
   "outputs": [],
   "source": [
    "# Setting default size of the plot and images\n",
    "plt.rcParams['figure.figsize'] = (16.0, 16.0)\n",
    "image_size = 224\n",
    "\n",
    "def open_images(paths):\n",
    "    '''\n",
    "    Given a list of paths to images, this function returns the images as arrays (after augmenting them)\n",
    "    '''\n",
    "    images = []\n",
    "    for path in paths:\n",
    "        image = load_img(path, target_size=(IMAGE_SIZE,IMAGE_SIZE))\n",
    "        image = augment_image(image)\n",
    "        images.append(image)\n",
    "    return np.array(images)\n",
    "\n",
    "# Defining a figure object with number of needed subplots\n",
    "# ax is a (25, 4) numpy array\n",
    "# To access specific subplot we call it by ax[0, 0]\n",
    "figure, ax = plt.subplots(nrows=4, ncols=4)\n",
    "\n",
    "# Plotting 16 examples along 4 rows and 4 columns\n",
    "for i in range(4):\n",
    "    for j in range(4):\n",
    "        # Preparing random index\n",
    "        ii = np.random.randint(low=0, high=x_train.shape[0])\n",
    "        \n",
    "        # Plotting current subplot\n",
    "        ax[i, j].imshow(x_train[ii].astype('uint8'))\n",
    "        \n",
    "        # Giving name to current subplot\n",
    "        # according to class's name in dataFrame 'labels'\n",
    "        ax[i, j].set_title(labels.loc[y_train[ii], 0], fontsize=16)\n",
    "        \n",
    "        # Hiding axis\n",
    "        ax[i, j].axis('off')\n",
    "\n",
    "# Adjusting distance between subplots and showing plot\n",
    "plt.tight_layout()\n",
    "plt.show()"
   ]
  },
  {
   "cell_type": "code",
   "execution_count": null,
   "id": "8eb0da0f",
   "metadata": {},
   "outputs": [],
   "source": [
    "# check out this repo for edge detection function\n",
    "# https://www.kaggle.com/code/ruslankl/brain-tumor-detection-v1-0-cnn-vgg-16"
   ]
  }
 ],
 "metadata": {
  "kernelspec": {
   "display_name": "Capstone Env",
   "language": "python",
   "name": "capstoneproj"
  },
  "language_info": {
   "codemirror_mode": {
    "name": "ipython",
    "version": 3
   },
   "file_extension": ".py",
   "mimetype": "text/x-python",
   "name": "python",
   "nbconvert_exporter": "python",
   "pygments_lexer": "ipython3",
   "version": "3.8.16"
  }
 },
 "nbformat": 4,
 "nbformat_minor": 5
}
